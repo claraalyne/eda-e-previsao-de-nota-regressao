{
 "cells": [
  {
   "cell_type": "markdown",
   "id": "772cb3c2",
   "metadata": {},
   "source": [
    "### Previsão de Nota do IMDB"
   ]
  },
  {
   "cell_type": "code",
   "execution_count": 19,
   "id": "5462241e",
   "metadata": {},
   "outputs": [],
   "source": [
    "import pandas as pd\n",
    "import numpy as np\n",
    "\n",
    "df = pd.read_csv(\"dataset_tratado.csv\")"
   ]
  },
  {
   "cell_type": "code",
   "execution_count": 38,
   "id": "cbf7049a",
   "metadata": {},
   "outputs": [],
   "source": [
    "\n",
    "from sklearn.model_selection import train_test_split, cross_val_score, KFold\n",
    "from sklearn.pipeline import Pipeline\n",
    "from sklearn .preprocessing import StandardScaler\n",
    "from sklearn.dummy import DummyRegressor\n",
    "from sklearn.linear_model import LinearRegression\n",
    "from sklearn.tree import DecisionTreeRegressor\n",
    "from sklearn.ensemble import RandomForestRegressor\n",
    "from sklearn.ensemble import GradientBoostingRegressor\n",
    "from sklearn.pipeline import Pipeline\n",
    "from sklearn.model_selection import GridSearchCV \n",
    "from sklearn.neighbors import KNeighborsRegressor\n",
    "from sklearn.metrics import r2_score, root_mean_squared_error\n",
    "import joblib\n"
   ]
  },
  {
   "cell_type": "markdown",
   "id": "461e06dc",
   "metadata": {},
   "source": [
    "O problema que estamos trabalhando é de regressão porque termina com a previsão de um valor numérico e contínuo e não de uma categoria.\n",
    "\n",
    "Modelos escolhidos:\n",
    "\n",
    "- **Modelo 1:** Regressão Linear\n",
    "- **Modelo 2:** Árvore de Decisão\n",
    "- **Modelo 3:** Random Forest\n",
    "- **Modelo 4:** Gradient Boosting\n",
    "- **Modelo 5:** k-Nearest Neighbors (KNN)\n",
    "\n",
    "Variáveis escolhidas:\n",
    "\n",
    "- Meta_score: Representa a nota da crítica. É um forte indicador da qualidade do filme e teve uma correlação de 0.29 com a nota do IMDB\n",
    "\n",
    "- No_of_Votes e Gross: Variáveis servem como indicadores de popularidade e sucesso econômico. Filmes com grande engajamento de público e alto faturamento geralmente são mais conhecidos e tendem a ter uma nota mais estabilizada.\n",
    "\n",
    "- Released_Year e Runtime: O ano de lançamento ajuda a identificar tendências históricas e a duração do filme pode influenciar a forma como ele é avaliado pelo público, além do Runtime ter correlação de 0.24 com a nota do IMDB.\n",
    "\n",
    "- Genre: Alguns dos gêneros apresentaram alta correlação com a nota do IMDB, possibilitando que isso ajude na previsão.\n",
    "\n",
    "- Certificate: Algumas classificações tem notas mais baixas que outras o que ajuda na avaliação do modelo.\n",
    "\n",
    "Medidas de Performance escolhida:\n",
    "\n",
    "- As medidas escolhidas foram R2 e o RMSE, O R2 mede a capacidade de o modelo explicar a variabilidade dos dados, enquanto o RMSE quantifica a precisão das previsões de erro, mostrando assim tanto o acerto quanto o erro do modelo."
   ]
  },
  {
   "cell_type": "markdown",
   "id": "a4faa576",
   "metadata": {},
   "source": [
    "#### Separação entre variáveis preditoras e alvo"
   ]
  },
  {
   "cell_type": "code",
   "execution_count": 21,
   "id": "c21cb25f",
   "metadata": {},
   "outputs": [],
   "source": [
    "# As colunas sem as linhas faltantes tiveram um desempenho melhor do que as colunas imputadas com a mediana\n",
    "df = df.dropna(subset=['Released_Year'])\n",
    "df = df.dropna(subset=['Gross_original'])\n",
    "df = df.dropna(subset=['Meta_score_original'])\n",
    "\n",
    "X = df[['Meta_score_original','No_of_Votes','Runtime','Gross_original', 'Released_Year','Certificate', 'Action', 'Adventure',\n",
    "       'Animation', 'Biography', 'Comedy', 'Crime', 'Drama', 'Family',\n",
    "       'Fantasy', 'Film-Noir', 'History', 'Horror', 'Music', 'Musical',\n",
    "       'Mystery', 'Romance', 'Sci-Fi', 'Sport', 'Thriller', 'War', 'Western']]\n",
    "X = pd.get_dummies(X)\n",
    "y = df['IMDB_Rating']"
   ]
  },
  {
   "cell_type": "markdown",
   "id": "28ab2cc1",
   "metadata": {},
   "source": [
    "#### Separação treino-teste"
   ]
  },
  {
   "cell_type": "code",
   "execution_count": 22,
   "id": "313ef4c1",
   "metadata": {},
   "outputs": [],
   "source": [
    "X_treino, X_teste, y_treino, y_teste = train_test_split(X, y, test_size = 0.2, random_state=3)"
   ]
  },
  {
   "cell_type": "markdown",
   "id": "0af44d46",
   "metadata": {},
   "source": [
    "#### Avaliação com k-fold (GridSearch)"
   ]
  },
  {
   "cell_type": "code",
   "execution_count": 25,
   "id": "1c9681dd",
   "metadata": {},
   "outputs": [
    {
     "name": "stdout",
     "output_type": "stream",
     "text": [
      "Treinando: Linear Regression\n",
      "Treinando: Decision Tree\n",
      "Treinando: Random Forest\n",
      "Treinando: Gradient Boosting\n",
      "Treinando: KNN\n",
      "\n",
      "Linear Regression\n",
      "R2 Médio (CV): 0.5619\n",
      "RMSE Médio (CV): 0.4317\n",
      "Melhores Parâmetros: {'clf__fit_intercept': True}\n",
      "\n",
      "Decision Tree\n",
      "R2 Médio (CV): 0.4469\n",
      "RMSE Médio (CV): 0.4604\n",
      "Melhores Parâmetros: {'clf__max_depth': 5, 'clf__min_samples_split': 5}\n",
      "\n",
      "Random Forest\n",
      "R2 Médio (CV): 0.6098\n",
      "RMSE Médio (CV): 0.4207\n",
      "Melhores Parâmetros: {'clf__max_depth': None, 'clf__min_samples_split': 2, 'clf__n_estimators': 50}\n",
      "\n",
      "Gradient Boosting\n",
      "R2 Médio (CV): 0.6021\n",
      "RMSE Médio (CV): 0.4226\n",
      "Melhores Parâmetros: {'clf__learning_rate': 0.1, 'clf__max_depth': 5, 'clf__n_estimators': 50}\n",
      "\n",
      "KNN\n",
      "R2 Médio (CV): 0.2441\n",
      "RMSE Médio (CV): 0.4975\n",
      "Melhores Parâmetros: {'clf__n_neighbors': 9, 'clf__weights': 'distance'}\n"
     ]
    }
   ],
   "source": [
    "models_params = {\n",
    "    'Linear Regression': {\n",
    "        'model': Pipeline([\n",
    "            ('scaler', StandardScaler()),\n",
    "            ('clf', LinearRegression())\n",
    "        ]),\n",
    "        'params': {\n",
    "            'clf__fit_intercept': [True, False],\n",
    "        }\n",
    "    },\n",
    "    'Decision Tree': {\n",
    "        'model': Pipeline([\n",
    "            ('scaler', StandardScaler()),\n",
    "            ('clf', DecisionTreeRegressor(random_state=42))\n",
    "        ]),\n",
    "        'params': {\n",
    "            'clf__max_depth': [3, 5, 10, None],\n",
    "            'clf__min_samples_split': [2, 5, 10]\n",
    "        }\n",
    "    },\n",
    "    'Random Forest': {\n",
    "        'model': Pipeline([\n",
    "            ('scaler', StandardScaler()),\n",
    "            ('clf', RandomForestRegressor(random_state=42))\n",
    "        ]),\n",
    "        'params': {\n",
    "            'clf__n_estimators': [50, 100, 200],\n",
    "            'clf__max_depth': [3, 5, 10, None],\n",
    "            'clf__min_samples_split': [2, 5, 10]\n",
    "        }\n",
    "    },\n",
    "    'Gradient Boosting': {\n",
    "        'model': Pipeline([\n",
    "            ('scaler', StandardScaler()),\n",
    "            ('clf', GradientBoostingRegressor(random_state=42))\n",
    "        ]),\n",
    "        'params': {\n",
    "            'clf__n_estimators': [50, 100, 200],\n",
    "            'clf__learning_rate': [0.01, 0.1, 0.2],\n",
    "            'clf__max_depth': [3, 5, 7]\n",
    "        }\n",
    "    },\n",
    "    'KNN': {\n",
    "        'model': Pipeline([\n",
    "            ('scaler', StandardScaler()),\n",
    "            ('clf', KNeighborsRegressor())\n",
    "        ]),\n",
    "        'params': {\n",
    "            'clf__n_neighbors': [3, 5, 7, 9],\n",
    "            'clf__weights': ['uniform', 'distance']\n",
    "        }\n",
    "    }\n",
    "}\n",
    "\n",
    "scoring = {\n",
    "    'r2': 'r2',\n",
    "    'neg_root_mean_squared_error': 'neg_root_mean_squared_error'\n",
    "}\n",
    "\n",
    "\n",
    "results = {}\n",
    "for name, mp in models_params.items():\n",
    "    print(f\"Treinando: {name}\")\n",
    "    grid = GridSearchCV(\n",
    "        mp['model'],\n",
    "        mp['params'],\n",
    "        cv=7,                  \n",
    "        scoring=scoring,\n",
    "        refit='r2',           \n",
    "        n_jobs=-1\n",
    "    )\n",
    "    grid.fit(X_treino, y_treino)\n",
    "    \n",
    "    results[name] = {\n",
    "        'R2 Médio (CV)': round(grid.cv_results_['mean_test_r2'][grid.best_index_], 4),\n",
    "        'RMSE Médio (CV)': round((-grid.cv_results_['mean_test_neg_root_mean_squared_error'][grid.best_index_])**0.5, 4),\n",
    "        'Melhores Parâmetros': grid.best_params_\n",
    "    }\n",
    " \n",
    "# Exibindo resultados\n",
    "for modelo, res in results.items():\n",
    "    print(f\"\\n{modelo}\")\n",
    "    print(\"R2 Médio (CV):\", res['R2 Médio (CV)'])\n",
    "    print(\"RMSE Médio (CV):\", res['RMSE Médio (CV)'])\n",
    "    print(\"Melhores Parâmetros:\", res['Melhores Parâmetros'])"
   ]
  },
  {
   "cell_type": "markdown",
   "id": "947ee062",
   "metadata": {},
   "source": [
    "### Holdout com os modelos campeões"
   ]
  },
  {
   "cell_type": "code",
   "execution_count": 27,
   "id": "1ecb0faf",
   "metadata": {},
   "outputs": [
    {
     "name": "stdout",
     "output_type": "stream",
     "text": [
      "\n",
      "Linear Regression\n",
      "R2 (teste): 0.3663\n",
      "RMSE (teste): 0.2105\n",
      "\n",
      "Decision Tree\n",
      "R2 (teste): 0.3625\n",
      "RMSE (teste): 0.2112\n",
      "\n",
      "Random Forest\n",
      "R2 (teste): 0.5325\n",
      "RMSE (teste): 0.1808\n",
      "\n",
      "Gradient Boosting\n",
      "R2 (teste): 0.5269\n",
      "RMSE (teste): 0.1819\n",
      "\n",
      "KNN\n",
      "R2 (teste): 0.0694\n",
      "RMSE (teste): 0.2551\n"
     ]
    }
   ],
   "source": [
    "\n",
    "best_models = {\n",
    "    'Linear Regression': Pipeline([\n",
    "        ('scaler', StandardScaler()),\n",
    "        ('clf', LinearRegression(fit_intercept=True))\n",
    "    ]),\n",
    "    'Decision Tree': Pipeline([\n",
    "        ('scaler', StandardScaler()),\n",
    "        ('clf', DecisionTreeRegressor(max_depth=5, min_samples_split=5, random_state=42))\n",
    "    ]),\n",
    "    'Random Forest': Pipeline([\n",
    "        ('scaler', StandardScaler()),\n",
    "        ('clf', RandomForestRegressor(n_estimators=50, max_depth=None, min_samples_split=2, random_state=42))\n",
    "    ]),\n",
    "    'Gradient Boosting': Pipeline([\n",
    "        ('scaler', StandardScaler()),\n",
    "        ('clf', GradientBoostingRegressor(n_estimators=50, learning_rate=0.1, max_depth=5, random_state=42))\n",
    "    ]),\n",
    "    'KNN': Pipeline([\n",
    "        ('scaler', StandardScaler()),\n",
    "        ('clf', KNeighborsRegressor(n_neighbors=9, weights='distance'))\n",
    "    ])\n",
    "}\n",
    " \n",
    "# DataFrame para armazenar resultados\n",
    "test_results = {\n",
    "    'Modelo': [],\n",
    "    'R2 (teste)': [],\n",
    "    'RMSE (teste)': []\n",
    "}\n",
    " \n",
    "# Avaliação dos modelos\n",
    "for name, model in best_models.items():\n",
    "    model.fit(X_treino, y_treino)\n",
    "    \n",
    "    # Predição\n",
    "    y_pred = model.predict(X_teste)\n",
    "    \n",
    "    # Métricas\n",
    "    r2 = r2_score(y_teste, y_pred)\n",
    "    rmse = root_mean_squared_error(y_teste, y_pred)  \n",
    "    \n",
    "    # Armazena resultados\n",
    "    test_results['Modelo'].append(name)\n",
    "    test_results['R2 (teste)'].append(round(r2, 4))\n",
    "    test_results['RMSE (teste)'].append(round(rmse, 4))\n",
    " \n",
    "# Exibe resultados\n",
    "for i in range(len(test_results['Modelo'])):\n",
    "    print(f\"\\n{test_results['Modelo'][i]}\")\n",
    "    print(\"R2 (teste):\", test_results['R2 (teste)'][i])\n",
    "    print(\"RMSE (teste):\", test_results['RMSE (teste)'][i])"
   ]
  },
  {
   "cell_type": "markdown",
   "id": "efafe11d",
   "metadata": {},
   "source": [
    "### Discussão\n",
    "\n",
    "- O **Random Forest** foi o modelo com melhor desempenho geral, alcançando o maior R² (0.5325) e o menor RMSE (0.1808), demonstrando ser a abordagem mais precisa e com maior capacidade de explicar a variabilidade dos dados.\n",
    "- O **Gradient Boosting** apresentou uma performance quase idêntica à do Random Forest, com R² de 0.5269 e RMSE de 0.1819, consolidando-se também como uma solução de alta performance para este problema de regressão.\n",
    "- A **Regressão Linear** serviu como um *baseline* eficaz, com desempenho intermediário (R² de 0.3663), mostrando que um modelo simples já consegue capturar uma parte significativa dos padrões nos dados.\n",
    "- A **Árvore de Decisão** teve um desempenho muito próximo ao da Regressão Linear (R² de 0.3625), indicando que, em sua forma individual, não foi capaz de superar a performance do modelo linear.\n",
    "- O **KNN** apresentou a performance mais fraca, com um R² muito baixo (0.0694) e o maior RMSE (0.2551), o que sugere que a sua abordagem baseada em vizinhança não foi adequada para a estrutura deste conjunto de dados."
   ]
  },
  {
   "cell_type": "markdown",
   "id": "b239e4be",
   "metadata": {},
   "source": [
    "\n",
    "- O modelo que mais se aproxima dos dados foi o **Random Forest** com um R2 de 0.5325 acertando 53,25% da variabilidade das notas do IMDb. Indicando que o modelo alcançou um resultado muito bom.  O RMSE indica que a previsão do modelo está apenas 0.18 pontos de distância da nota real do filme. Demonstrando que o modelo não possui muitos contras a se considerar."
   ]
  },
  {
   "cell_type": "markdown",
   "id": "57e4e9b7",
   "metadata": {},
   "source": [
    "# Exemplo"
   ]
  },
  {
   "cell_type": "code",
   "execution_count": 32,
   "id": "9a63c3ed",
   "metadata": {},
   "outputs": [
    {
     "data": {
      "text/html": [
       "<div>\n",
       "<style scoped>\n",
       "    .dataframe tbody tr th:only-of-type {\n",
       "        vertical-align: middle;\n",
       "    }\n",
       "\n",
       "    .dataframe tbody tr th {\n",
       "        vertical-align: top;\n",
       "    }\n",
       "\n",
       "    .dataframe thead th {\n",
       "        text-align: right;\n",
       "    }\n",
       "</style>\n",
       "<table border=\"1\" class=\"dataframe\">\n",
       "  <thead>\n",
       "    <tr style=\"text-align: right;\">\n",
       "      <th></th>\n",
       "      <th>Meta_score_original</th>\n",
       "      <th>No_of_Votes</th>\n",
       "      <th>Runtime</th>\n",
       "      <th>Gross_original</th>\n",
       "      <th>Released_Year</th>\n",
       "      <th>Action</th>\n",
       "      <th>Adventure</th>\n",
       "      <th>Animation</th>\n",
       "      <th>Biography</th>\n",
       "      <th>Comedy</th>\n",
       "      <th>...</th>\n",
       "      <th>Romance</th>\n",
       "      <th>Sci-Fi</th>\n",
       "      <th>Sport</th>\n",
       "      <th>Thriller</th>\n",
       "      <th>War</th>\n",
       "      <th>Western</th>\n",
       "      <th>Certificate_Adultos</th>\n",
       "      <th>Certificate_Não Classificado</th>\n",
       "      <th>Certificate_Orientação Parental</th>\n",
       "      <th>Certificate_Universal</th>\n",
       "    </tr>\n",
       "  </thead>\n",
       "  <tbody>\n",
       "    <tr>\n",
       "      <th>0</th>\n",
       "      <td>80.0</td>\n",
       "      <td>2343110</td>\n",
       "      <td>142</td>\n",
       "      <td>28341469</td>\n",
       "      <td>1994</td>\n",
       "      <td>0</td>\n",
       "      <td>0</td>\n",
       "      <td>0</td>\n",
       "      <td>0</td>\n",
       "      <td>0</td>\n",
       "      <td>...</td>\n",
       "      <td>0</td>\n",
       "      <td>0</td>\n",
       "      <td>0</td>\n",
       "      <td>0</td>\n",
       "      <td>0</td>\n",
       "      <td>0</td>\n",
       "      <td>True</td>\n",
       "      <td>False</td>\n",
       "      <td>False</td>\n",
       "      <td>False</td>\n",
       "    </tr>\n",
       "  </tbody>\n",
       "</table>\n",
       "<p>1 rows × 30 columns</p>\n",
       "</div>"
      ],
      "text/plain": [
       "   Meta_score_original  No_of_Votes  Runtime  Gross_original Released_Year  \\\n",
       "0                 80.0      2343110      142        28341469          1994   \n",
       "\n",
       "   Action  Adventure  Animation  Biography  Comedy  ...  Romance  Sci-Fi  \\\n",
       "0       0          0          0          0       0  ...        0       0   \n",
       "\n",
       "   Sport  Thriller  War  Western  Certificate_Adultos  \\\n",
       "0      0         0    0        0                 True   \n",
       "\n",
       "   Certificate_Não Classificado  Certificate_Orientação Parental  \\\n",
       "0                         False                            False   \n",
       "\n",
       "   Certificate_Universal  \n",
       "0                  False  \n",
       "\n",
       "[1 rows x 30 columns]"
      ]
     },
     "execution_count": 32,
     "metadata": {},
     "output_type": "execute_result"
    }
   ],
   "source": [
    "exemplo = {\n",
    " 'Released_Year': ['1994'],\n",
    " 'Runtime': [142], # retirando a string 'min' e convertendo o tipo\n",
    " 'Meta_score_original': [80.0],\n",
    " 'No_of_Votes': [2343110],\n",
    " 'Gross_original': [28341469], # retirando as virgulas\n",
    " 'Action' : [0], \n",
    " 'Adventure' : [0],\n",
    " 'Animation' : [0], \n",
    " 'Biography' : [0], \n",
    " 'Comedy' : [0], \n",
    " 'Crime' : [0], \n",
    " 'Drama' : [1], # genero drama verdadeiro\n",
    " 'Family' : [0],\n",
    " 'Fantasy' : [0], \n",
    " 'Film-Noir' : [0], \n",
    " 'History' : [0], \n",
    " 'Horror' : [0], \n",
    " 'Music' : [0], \n",
    " 'Musical' : [0],\n",
    " 'Mystery' : [0], \n",
    " 'Romance' : [0], \n",
    " 'Sci-Fi' : [0], \n",
    " 'Sport' : [0], \n",
    " 'Thriller' : [0], \n",
    " 'War' : [0], \n",
    " 'Western' : [0], \n",
    " 'Certificate_Adultos'  : [True],  # convertendo A para Adultos\n",
    " 'Certificate_Não Classificado'  : [False], \n",
    " 'Certificate_Orientação Parental'  : [False], \n",
    " 'Certificate_Universal' : [False]\n",
    " }\n",
    "\n",
    "\n",
    "exemplo = pd.DataFrame(exemplo, columns=X.columns)\n",
    "exemplo"
   ]
  },
  {
   "cell_type": "code",
   "execution_count": 36,
   "id": "9eb1ab63",
   "metadata": {},
   "outputs": [
    {
     "name": "stdout",
     "output_type": "stream",
     "text": [
      "A previsão da nota no IMDB do filme indicado é: 8.742\n"
     ]
    }
   ],
   "source": [
    "best_model = best_models[\"Random Forest\"]\n",
    "previsao_nota = best_model.predict(exemplo)\n",
    "print(f'A previsão da nota no IMDB do filme indicado é: {previsao_nota[0]}')"
   ]
  },
  {
   "cell_type": "code",
   "execution_count": 39,
   "id": "1063481d",
   "metadata": {},
   "outputs": [
    {
     "data": {
      "text/plain": [
       "['melhor_modelo_randomforest.pkl']"
      ]
     },
     "execution_count": 39,
     "metadata": {},
     "output_type": "execute_result"
    }
   ],
   "source": [
    "joblib.dump(best_model, \"melhor_modelo_randomforest.pkl\")"
   ]
  }
 ],
 "metadata": {
  "kernelspec": {
   "display_name": "Python 3",
   "language": "python",
   "name": "python3"
  },
  "language_info": {
   "codemirror_mode": {
    "name": "ipython",
    "version": 3
   },
   "file_extension": ".py",
   "mimetype": "text/x-python",
   "name": "python",
   "nbconvert_exporter": "python",
   "pygments_lexer": "ipython3",
   "version": "3.13.5"
  }
 },
 "nbformat": 4,
 "nbformat_minor": 5
}
